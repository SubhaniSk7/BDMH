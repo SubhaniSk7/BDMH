{
 "cells": [
  {
   "cell_type": "markdown",
   "metadata": {},
   "source": [
    "## Author: SUBHANI SHAIK -MT18117"
   ]
  },
  {
   "cell_type": "code",
   "execution_count": 11,
   "metadata": {},
   "outputs": [],
   "source": [
    "import numpy as np\n",
    "import pandas as pd\n",
    "import glob,warnings,joblib\n",
    "from copy import deepcopy\n",
    "from sklearn.preprocessing import scale\n",
    "from sklearn.feature_selection import chi2,SelectKBest,f_classif\n",
    "from sklearn.decomposition import TruncatedSVD\n",
    "warnings.filterwarnings('ignore')"
   ]
  },
  {
   "cell_type": "markdown",
   "metadata": {},
   "source": [
    "### Loading Data"
   ]
  },
  {
   "cell_type": "code",
   "execution_count": 12,
   "metadata": {},
   "outputs": [],
   "source": [
    "complete_train_data = pd.read_csv(r'./Dataset/PRROM/Complete_train')\n",
    "complete_test_data = pd.read_csv(r'./Dataset/PRROM/Complete_test')"
   ]
  },
  {
   "cell_type": "markdown",
   "metadata": {},
   "source": [
    "### Excluding Features ['GA', 'GADel', 'Group', 'TTD','SampleID']"
   ]
  },
  {
   "cell_type": "code",
   "execution_count": 13,
   "metadata": {},
   "outputs": [],
   "source": [
    "complete_Y_train = deepcopy(complete_train_data['Group'])\n",
    "complete_Y_test = deepcopy(complete_test_data['Group'])\n",
    "\n",
    "excluded_features_train = deepcopy(complete_train_data[['GA', 'GADel', 'TTD']])\n",
    "excluded_features_test = deepcopy(complete_test_data[['GA', 'GADel', 'TTD']])\n",
    "\n",
    "complete_X_train = deepcopy(complete_train_data.drop(columns = ['GA', 'GADel', 'Group', 'TTD','SampleID']))\n",
    "complete_X_test = deepcopy(complete_test_data.drop(columns = ['GA', 'GADel', 'Group', 'TTD','SampleID']))"
   ]
  },
  {
   "cell_type": "code",
   "execution_count": 14,
   "metadata": {},
   "outputs": [
    {
     "data": {
      "text/plain": [
       "199    PPROM\n",
       "200    PPROM\n",
       "201    PPROM\n",
       "202    PPROM\n",
       "203    PPROM\n",
       "       ...  \n",
       "260    PPROM\n",
       "261    PPROM\n",
       "262    PPROM\n",
       "263    PPROM\n",
       "264    PPROM\n",
       "Name: Group, Length: 66, dtype: object"
      ]
     },
     "execution_count": 14,
     "metadata": {},
     "output_type": "execute_result"
    }
   ],
   "source": [
    "complete_Y_train[complete_Y_train=='PPROM']"
   ]
  },
  {
   "cell_type": "code",
   "execution_count": 15,
   "metadata": {},
   "outputs": [
    {
     "data": {
      "text/plain": [
       "0      Control\n",
       "1      Control\n",
       "2      Control\n",
       "3      Control\n",
       "4      Control\n",
       "        ...   \n",
       "260      PPROM\n",
       "261      PPROM\n",
       "262      PPROM\n",
       "263      PPROM\n",
       "264      PPROM\n",
       "Name: Group, Length: 265, dtype: object"
      ]
     },
     "execution_count": 15,
     "metadata": {},
     "output_type": "execute_result"
    }
   ],
   "source": [
    "complete_Y_train"
   ]
  },
  {
   "cell_type": "markdown",
   "metadata": {},
   "source": [
    "### Feature Selection"
   ]
  },
  {
   "cell_type": "code",
   "execution_count": 16,
   "metadata": {},
   "outputs": [],
   "source": [
    "def truncated_SVD(train_X, test_X):\n",
    "    ksvd_train = TruncatedSVD(n_components=5, n_iter=10, random_state=42)\n",
    "    ksvd_train.fit(train_X)\n",
    "    \n",
    "    ksvd_test = TruncatedSVD(n_components=5, n_iter=10, random_state=42)\n",
    "    ksvd_test.fit(test_X)\n",
    "    \n",
    "    print(ksvd_train.singular_values_)\n",
    "\n",
    "def f_classif_selection(train_X, test_X, train_y, test_y):\n",
    "    select = SelectKBest(f_classif, k=150)\n",
    "    select.fit_transform(train_X, train_y)\n",
    "    \n",
    "    cols = select.get_support(indices=True)\n",
    "    train_X_new, test_X_new = train_X.iloc[:,cols], test_X.iloc[:,cols]\n",
    "    \n",
    "    print(train_X_new.shape, test_X_new.shape)\n",
    "    return train_X_new, test_X_new\n",
    "\n",
    "def chi_2(train_X, test_X, train_y, test_y):\n",
    "    train_X_new = SelectKBest(chi2, k=150).fit_transform(train_X, train_y)\n",
    "    test_X_new  = SelectKBest(chi2, k=150).fit_transform(test_X, test_y)\n",
    "    \n",
    "    print(train_X_new.shape, test_X_new.shape)\n",
    "    return train_X_new, test_X_new\n",
    "\n",
    "def feature_selection(train_X,test_X, train_y, test_y):\n",
    "    \n",
    "    train_X_new, test_X_new = f_classif_selection(train_X, test_X, train_y, test_y)\n",
    "    \n",
    "    print(train_X_new.shape, test_X_new.shape)\n",
    "    return train_X_new, test_X_new"
   ]
  },
  {
   "cell_type": "code",
   "execution_count": 17,
   "metadata": {},
   "outputs": [],
   "source": [
    "# truncated_SVD(complete_X_train, complete_X_test)"
   ]
  },
  {
   "cell_type": "code",
   "execution_count": 18,
   "metadata": {},
   "outputs": [
    {
     "name": "stdout",
     "output_type": "stream",
     "text": [
      "(265, 150) (115, 150)\n"
     ]
    }
   ],
   "source": [
    "complete_X_train, complete_X_test = f_classif_selection(complete_X_train, complete_X_test, complete_Y_train, complete_Y_test)"
   ]
  },
  {
   "cell_type": "code",
   "execution_count": 19,
   "metadata": {},
   "outputs": [],
   "source": [
    "# select = SelectKBest(chi2, k=150)\n",
    "# select.fdit_transform(complete_X_train, complete_Y_train)"
   ]
  },
  {
   "cell_type": "markdown",
   "metadata": {},
   "source": [
    "### Genetic Algorithm"
   ]
  },
  {
   "cell_type": "code",
   "execution_count": 20,
   "metadata": {},
   "outputs": [],
   "source": [
    "# estimator = LogisticRegression(solver=\"liblinear\")\n",
    "# selector = selector.fit(X_train_scale, y_train)\n",
    "# print(len(selector.support_))\n",
    "# selector.n_features_\n",
    "\n",
    "# indices = []\n",
    "# for i in range(len(selector.support_)):\n",
    "#     if(selector.support_[i]==True):\n",
    "#         indices.append(i)\n",
    "\n",
    "# # joblib.dump(indices, 'Features.sav')\n",
    "# # features = joblib.load('Features.sav')\n",
    "\n",
    "# # X_new_complete_train = complete_X_train.iloc[:,indices]\n",
    "# # X_new_complete_test = complete_X_test.iloc[:,indices]\n",
    "\n",
    "# # X_new_train = X_new_complete_train.values\n",
    "# # X_new_test = X_new_complete_test.values\n",
    "\n",
    "# # X_new_train_scale = scale(X_new_train)\n",
    "# # X_new_test_scale = scale(X_new_test)"
   ]
  },
  {
   "cell_type": "markdown",
   "metadata": {},
   "source": [
    "### Exporting to .csv"
   ]
  },
  {
   "cell_type": "markdown",
   "metadata": {},
   "source": [
    "#### class to numericals (Control : 1, sPTD : 0)"
   ]
  },
  {
   "cell_type": "code",
   "execution_count": 21,
   "metadata": {},
   "outputs": [],
   "source": [
    "complete_Y_train[complete_Y_train == 'Control'] = '1'\n",
    "complete_Y_train[complete_Y_train == 'PPROM'] = '0'\n",
    "\n",
    "complete_Y_test[complete_Y_test == 'Control'] = '1'\n",
    "complete_Y_test[complete_Y_test == 'PPROM'] = '0'"
   ]
  },
  {
   "cell_type": "code",
   "execution_count": 22,
   "metadata": {},
   "outputs": [],
   "source": [
    "complete_X_train.to_csv('outputs/B/MT18117_q5_X_train.csv',index=False)\n",
    "complete_X_test.to_csv('outputs/B/MT18117_q5_X_test.csv',index=False)\n",
    "complete_Y_train.to_csv('outputs/B/MT18117_q5_Y_train.csv',index=False)\n",
    "complete_Y_test.to_csv('outputs/B/MT18117_q5_Y_test.csv',index=False)\n",
    "\n",
    "excluded_features_train.to_csv('outputs/B/MT18117_q5_excluded_features_train.csv',index=False)\n",
    "excluded_features_test.to_csv('outputs/B/MT18117_q5_excluded_features_test.csv',index=False)"
   ]
  },
  {
   "cell_type": "code",
   "execution_count": null,
   "metadata": {},
   "outputs": [],
   "source": []
  }
 ],
 "metadata": {
  "kernelspec": {
   "display_name": "Python 3",
   "language": "python",
   "name": "python3"
  },
  "language_info": {
   "codemirror_mode": {
    "name": "ipython",
    "version": 3
   },
   "file_extension": ".py",
   "mimetype": "text/x-python",
   "name": "python",
   "nbconvert_exporter": "python",
   "pygments_lexer": "ipython3",
   "version": "3.7.1"
  }
 },
 "nbformat": 4,
 "nbformat_minor": 2
}
