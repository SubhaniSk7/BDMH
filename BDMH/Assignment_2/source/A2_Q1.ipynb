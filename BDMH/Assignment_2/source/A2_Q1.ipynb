{
 "cells": [
  {
   "cell_type": "markdown",
   "metadata": {},
   "source": [
    "### importing"
   ]
  },
  {
   "cell_type": "code",
   "execution_count": 1,
   "metadata": {},
   "outputs": [],
   "source": [
    "import sys\n",
    "import numpy as np"
   ]
  },
  {
   "cell_type": "markdown",
   "metadata": {},
   "source": [
    "### methods"
   ]
  },
  {
   "cell_type": "markdown",
   "metadata": {},
   "source": [
    "### function to get all sequences"
   ]
  },
  {
   "cell_type": "code",
   "execution_count": 2,
   "metadata": {},
   "outputs": [],
   "source": [
    "def get_all_seq(dot_plot, p1, p2):\n",
    "    all_seq = []\n",
    "    considered = []\n",
    "    for i in range(len(dot_plot)):\n",
    "        for j in range(len(dot_plot[i])):\n",
    "            if dot_plot[i][j] == 1 and [i,j] not in considered:\n",
    "                seq = []\n",
    "                ith = i\n",
    "                jth = j\n",
    "                while ith < len(p1) and jth < len(p2) and dot_plot[ith][jth] == 1:\n",
    "                    seq.append([ith,jth])\n",
    "                    ith += 1\n",
    "                    jth += 1\n",
    "                if len(seq) >= 4:\n",
    "                    all_seq.append(seq)\n",
    "                    considered += seq\n",
    "    return all_seq"
   ]
  },
  {
   "cell_type": "markdown",
   "metadata": {},
   "source": [
    "### function to get all reverse sequences"
   ]
  },
  {
   "cell_type": "code",
   "execution_count": 3,
   "metadata": {},
   "outputs": [],
   "source": [
    "def get_all_seq_reverse(dot_plot, p1, p2):\n",
    "    considered = []\n",
    "    all_seq_reverse = []\n",
    "    for i in range(len(dot_plot)):\n",
    "        for j in range(len(dot_plot[i])):\n",
    "            if dot_plot[i][j] == 1 and [i,j] not in considered:\n",
    "                #print(considered)\n",
    "                #print(i,j)\n",
    "                seq = []\n",
    "                ith = i\n",
    "                jth = j\n",
    "                while ith < len(p1) and jth > -1 and dot_plot[ith][jth] == 1:\n",
    "                    seq.append([ith,jth])\n",
    "                    ith += 1\n",
    "                    jth -= 1\n",
    "                if len(seq) >= 4:\n",
    "                    seq.reverse()\n",
    "                    all_seq_reverse.append(seq)\n",
    "                    considered += seq\n",
    "    return all_seq_reverse"
   ]
  },
  {
   "cell_type": "code",
   "execution_count": 4,
   "metadata": {},
   "outputs": [],
   "source": [
    "def get_sequences(all_seq, p):\n",
    "    sequences = []\n",
    "    for i in range(len(all_seq)):\n",
    "        single = ''\n",
    "        for j in range(len(all_seq[i])):\n",
    "            single += p[all_seq[i][j][0]]\n",
    "        sequences.append(single)\n",
    "    return list(sequences)"
   ]
  },
  {
   "cell_type": "markdown",
   "metadata": {},
   "source": [
    "### function to get the repeats"
   ]
  },
  {
   "cell_type": "code",
   "execution_count": 5,
   "metadata": {},
   "outputs": [],
   "source": [
    "#function to get the repeats\n",
    "def get_dot_plot(protien1, protien2):\n",
    "    dot_plot = np.zeros((len(protien1), len(protien2)))\n",
    "\n",
    "    for i in range(len(dot_plot)):\n",
    "        for j in range(len(dot_plot[i])):\n",
    "            if protien1[i] == protien2[j]:\n",
    "                dot_plot[i][j] = 1\n",
    "    \n",
    "    all_seq = get_all_seq(dot_plot, protien1, protien2)\n",
    "    act_seq = get_sequences(all_seq, protien1)\n",
    "    return list(act_seq)"
   ]
  },
  {
   "cell_type": "markdown",
   "metadata": {},
   "source": [
    "### function to get the reverse dot plot"
   ]
  },
  {
   "cell_type": "code",
   "execution_count": 6,
   "metadata": {},
   "outputs": [],
   "source": [
    "#function to get the reverse repeats\n",
    "def get_dot_plot_reverse(protien1, protien2):\n",
    "    dot_plot = np.zeros((len(protien1), len(protien2)))\n",
    "\n",
    "    for i in range(len(dot_plot)):\n",
    "        for j in range(len(dot_plot[i])):\n",
    "            if protien1[i] == protien2[j]:\n",
    "                dot_plot[i][j] = 1\n",
    "    \n",
    "    all_seq = get_all_seq_reverse(dot_plot, protien1, protien2)\n",
    "    act_seq = get_sequences(all_seq, protien1)\n",
    "    return list(act_seq)"
   ]
  },
  {
   "cell_type": "markdown",
   "metadata": {},
   "source": [
    "### setting threshold"
   ]
  },
  {
   "cell_type": "code",
   "execution_count": 7,
   "metadata": {},
   "outputs": [],
   "source": [
    "np.set_printoptions(threshold = sys.maxsize)"
   ]
  },
  {
   "cell_type": "markdown",
   "metadata": {},
   "source": [
    "### Testing: give input as file CLI"
   ]
  },
  {
   "cell_type": "code",
   "execution_count": 8,
   "metadata": {},
   "outputs": [
    {
     "name": "stdout",
     "output_type": "stream",
     "text": [
      "Enter command line arguments in this format:  python3 Answer_1.py -i input_file -o output_file\n"
     ]
    }
   ],
   "source": [
    "if len(sys.argv) < 5 or sys.argv[1] != '-i' or sys.argv[3] != '-o':\n",
    "    print('Enter command line arguments in this format:  python3 Answer_1.py -i input_file -o output_file')\n",
    "else:\n",
    "    inp_file = sys.argv[2]\n",
    "    data = open(inp_file, 'r').read().split('\\n')\n",
    "    proteins = []\n",
    "    for x in data:\n",
    "        if len(x) > 0 and '>' not in x:\n",
    "            proteins.append(x)\n",
    "    if len(proteins) == 0:\n",
    "        print('Protein sequence not found')\n",
    "    else:\n",
    "        text_file = open(sys.argv[4], \"a\")\n",
    "        i = 0\n",
    "        for protein in proteins:\n",
    "            i += 1\n",
    "            g = get_dot_plot(protein, protein)\n",
    "            s = get_dot_plot_reverse(protein, protein)\n",
    "            text_file.write('For sequence number ' + str(i) + '\\n')\n",
    "            text_file.write(\"Count: \" + str(len(g)) + \"\\nReverse Count: \" + str(len(s)) + '\\n')\n",
    "            text_file.write('--------------------------------------------\\n\\n')\n",
    "        text_file.close()"
   ]
  },
  {
   "cell_type": "code",
   "execution_count": null,
   "metadata": {},
   "outputs": [],
   "source": []
  }
 ],
 "metadata": {
  "kernelspec": {
   "display_name": "Python 3",
   "language": "python",
   "name": "python3"
  },
  "language_info": {
   "codemirror_mode": {
    "name": "ipython",
    "version": 3
   },
   "file_extension": ".py",
   "mimetype": "text/x-python",
   "name": "python",
   "nbconvert_exporter": "python",
   "pygments_lexer": "ipython3",
   "version": "3.7.1"
  }
 },
 "nbformat": 4,
 "nbformat_minor": 2
}
