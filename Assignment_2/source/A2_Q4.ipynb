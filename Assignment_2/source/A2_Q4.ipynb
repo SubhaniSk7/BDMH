{
 "cells": [
  {
   "cell_type": "markdown",
   "metadata": {},
   "source": [
    "### importing"
   ]
  },
  {
   "cell_type": "code",
   "execution_count": 1,
   "metadata": {},
   "outputs": [],
   "source": [
    "import pandas as pd\n",
    "import numpy as np\n",
    "\n",
    "from sklearn.svm import SVC\n",
    "from sklearn.model_selection import train_test_split\n",
    "from sklearn.metrics import confusion_matrix, accuracy_score, matthews_corrcoef\n",
    "from sklearn.neural_network import MLPClassifier\n",
    "from sklearn.ensemble import RandomForestClassifier"
   ]
  },
  {
   "cell_type": "markdown",
   "metadata": {},
   "source": [
    "### Methods"
   ]
  },
  {
   "cell_type": "code",
   "execution_count": 2,
   "metadata": {},
   "outputs": [],
   "source": [
    "def printMetrics(y_test,y_pred):\n",
    "    tn, fp, fn, tp = confusion_matrix(y_test, y_pred).ravel()\n",
    "    print('Accuracy score:', accuracy_score(y_test, y_pred), '\\t|\\tSpecificity:', tn/(tn+fp),'\\nSensitivity:', tp/(tp+fn), '\\t|\\tMCC:', matthews_corrcoef(y_test, y_pred),'\\n')"
   ]
  },
  {
   "cell_type": "markdown",
   "metadata": {},
   "source": [
    "### pfeatures for dynamic fasta file"
   ]
  },
  {
   "cell_type": "code",
   "execution_count": 3,
   "metadata": {},
   "outputs": [],
   "source": [
    "def pFeatures(sequence):\n",
    "    sequence = sequence.strip('\\n')\n",
    "    use_list = ['A','C','D','E','F','G','H','I','K','L','M','N','P','Q','R','S','T','V','W','Y']\n",
    "    result = []\n",
    "    for i in use_list:\n",
    "        x = list(sequence).count(i)/len(sequence)*100\n",
    "        result.append(x)\n",
    "    return result"
   ]
  },
  {
   "cell_type": "markdown",
   "metadata": {},
   "source": [
    "### Loading and reading files"
   ]
  },
  {
   "cell_type": "code",
   "execution_count": 4,
   "metadata": {},
   "outputs": [],
   "source": [
    "f = open('data/4/pos.txt', 'r')\n",
    "lines = f.readlines()\n",
    "pos = np.array(pFeatures(lines[0]))\n",
    "if (len(lines) > 1):\n",
    "    for i in range(1, len(lines)):\n",
    "        pos = np.vstack((pos, np.array(pFeatures(lines[i]))))\n"
   ]
  },
  {
   "cell_type": "code",
   "execution_count": 5,
   "metadata": {},
   "outputs": [],
   "source": [
    "f = open('data/4/neg.txt', 'r')\n",
    "lines = f.readlines()\n",
    "neg = np.array(pFeatures(lines[0]))\n",
    "if (len(lines) > 1):\n",
    "    for i in range(1, len(lines)):\n",
    "        neg = np.vstack((neg, np.array(pFeatures(lines[i]))))\n"
   ]
  },
  {
   "cell_type": "markdown",
   "metadata": {},
   "source": [
    "### pos and neg samples"
   ]
  },
  {
   "cell_type": "code",
   "execution_count": 6,
   "metadata": {},
   "outputs": [],
   "source": [
    "pos,neg= np.insert(pos,20,1,axis=1), np.insert(neg,20,0,axis=1)"
   ]
  },
  {
   "cell_type": "code",
   "execution_count": 7,
   "metadata": {},
   "outputs": [],
   "source": [
    "data = np.concatenate((pos,neg), axis=0)"
   ]
  },
  {
   "cell_type": "code",
   "execution_count": 8,
   "metadata": {},
   "outputs": [],
   "source": [
    "X, y = data[:,0:19], data[:,20]"
   ]
  },
  {
   "cell_type": "markdown",
   "metadata": {},
   "source": [
    "### splitting"
   ]
  },
  {
   "cell_type": "code",
   "execution_count": 9,
   "metadata": {},
   "outputs": [],
   "source": [
    "X_train, X_test, y_train, y_test = train_test_split(X, y, test_size=0.20, random_state=29)"
   ]
  },
  {
   "cell_type": "markdown",
   "metadata": {},
   "source": [
    "## Models"
   ]
  },
  {
   "cell_type": "markdown",
   "metadata": {},
   "source": [
    "### SVM"
   ]
  },
  {
   "cell_type": "code",
   "execution_count": 10,
   "metadata": {},
   "outputs": [
    {
     "name": "stdout",
     "output_type": "stream",
     "text": [
      "\n",
      "SVM model Results\n",
      "Accuracy score: 0.9414141414141414 \t|\tSpecificity: 0.9933774834437086 \n",
      "Sensitivity: 0.38095238095238093 \t|\tMCC: 0.5429351340016677 \n",
      "\n"
     ]
    }
   ],
   "source": [
    "print ('\\nSVM model Results')\n",
    "svc_model = SVC(gamma='auto', kernel='linear')\n",
    "svc_model.fit(X_train, y_train)\n",
    "printMetrics(y_test, svc_model.predict(X_test))"
   ]
  },
  {
   "cell_type": "markdown",
   "metadata": {},
   "source": [
    "### Artificial Neural Network(ANN)"
   ]
  },
  {
   "cell_type": "code",
   "execution_count": 11,
   "metadata": {},
   "outputs": [
    {
     "name": "stdout",
     "output_type": "stream",
     "text": [
      "\n",
      "ANN model Results\n",
      "Accuracy score: 0.9595959595959596 \t|\tSpecificity: 0.9845474613686535 \n",
      "Sensitivity: 0.6904761904761905 \t|\tMCC: 0.7243277821112698 \n",
      "\n"
     ]
    }
   ],
   "source": [
    "print ('\\nANN model Results')\n",
    "mlp_model = MLPClassifier(max_iter=400)\n",
    "mlp_model.fit(X_train, y_train)\n",
    "printMetrics(y_test,mlp_model.predict(X_test))"
   ]
  },
  {
   "cell_type": "markdown",
   "metadata": {},
   "source": [
    "### Random Forest"
   ]
  },
  {
   "cell_type": "code",
   "execution_count": 12,
   "metadata": {},
   "outputs": [
    {
     "name": "stdout",
     "output_type": "stream",
     "text": [
      "\n",
      "Random Forest model Results\n",
      "Accuracy score: 0.9656565656565657 \t|\tSpecificity: 1.0 \n",
      "Sensitivity: 0.5952380952380952 \t|\tMCC: 0.7574352821772499 \n",
      "\n"
     ]
    }
   ],
   "source": [
    "print ('\\nRandom Forest model Results')\n",
    "rfc = RandomForestClassifier(n_estimators=100, max_depth=10, random_state=0)\n",
    "rfc.fit(X_train, y_train)\n",
    "printMetrics(y_test,rfc.predict(X_test))"
   ]
  },
  {
   "cell_type": "code",
   "execution_count": null,
   "metadata": {},
   "outputs": [],
   "source": []
  },
  {
   "cell_type": "code",
   "execution_count": null,
   "metadata": {},
   "outputs": [],
   "source": []
  }
 ],
 "metadata": {
  "kernelspec": {
   "display_name": "Python 3",
   "language": "python",
   "name": "python3"
  },
  "language_info": {
   "codemirror_mode": {
    "name": "ipython",
    "version": 3
   },
   "file_extension": ".py",
   "mimetype": "text/x-python",
   "name": "python",
   "nbconvert_exporter": "python",
   "pygments_lexer": "ipython3",
   "version": "3.7.1"
  }
 },
 "nbformat": 4,
 "nbformat_minor": 2
}
